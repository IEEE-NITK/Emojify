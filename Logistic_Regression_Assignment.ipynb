{
 "cells": [
  {
   "cell_type": "markdown",
   "metadata": {},
   "source": [
    "## Logistic Regression Assignment\n",
    "In this assignment you will be working with the \"Breast Cancer Wisconsin Dataset\" from sklearn package and use logistic regression to predict whether a lump found is malignant or benign.\n",
    "#### Let's get started!"
   ]
  },
  {
   "cell_type": "code",
   "execution_count": 2,
   "metadata": {},
   "outputs": [],
   "source": [
    "# you will not need other libraries than these so leave this cell as is \n",
    "import pandas as pd\n",
    "import numpy as np\n",
    "import matplotlib.pyplot as plt\n",
    "from sklearn.datasets import load_breast_cancer\n",
    "#from sklearn.preprocessing import MinMaxScaler\n",
    "from sklearn.model_selection import train_test_split"
   ]
  },
  {
   "cell_type": "markdown",
   "metadata": {},
   "source": [
    "Loading the dataset (as numpy arrays) into X and y:"
   ]
  },
  {
   "cell_type": "code",
   "execution_count": 3,
   "metadata": {},
   "outputs": [
    {
     "name": "stdout",
     "output_type": "stream",
     "text": [
      "<class 'numpy.ndarray'>\n",
      "(569, 30)\n",
      "(569,)\n",
      "(30,)\n",
      "[[1.799e+01 1.038e+01 1.228e+02 ... 2.654e-01 4.601e-01 1.189e-01]\n",
      " [2.057e+01 1.777e+01 1.329e+02 ... 1.860e-01 2.750e-01 8.902e-02]\n",
      " [1.969e+01 2.125e+01 1.300e+02 ... 2.430e-01 3.613e-01 8.758e-02]\n",
      " ...\n",
      " [1.660e+01 2.808e+01 1.083e+02 ... 1.418e-01 2.218e-01 7.820e-02]\n",
      " [2.060e+01 2.933e+01 1.401e+02 ... 2.650e-01 4.087e-01 1.240e-01]\n",
      " [7.760e+00 2.454e+01 4.792e+01 ... 0.000e+00 2.871e-01 7.039e-02]]\n"
     ]
    }
   ],
   "source": [
    "X = load_breast_cancer()['data']\n",
    "y = load_breast_cancer()['target']\n",
    "feature_names = load_breast_cancer()['feature_names']\n",
    "\n",
    "# by running this we see that X is a numpy array(so is y)\n",
    "print(type(X))\n",
    "# this shows you number of rows and columns(features) in our data\n",
    "print(X.shape)\n",
    "print(y.shape)\n",
    "print((feature_names).shape)\n",
    "print(X)"
   ]
  },
  {
   "cell_type": "markdown",
   "metadata": {},
   "source": [
    "Next, convert the numpy arrays we have extracted into a single pandas dataframe (name the y column as 'Target') and use head() to look at what the dataset contains. <br>\n",
    "You're free to check other info too, maybe the datatypes in each column or whether there are any null values, <br>\n",
    "It's always a good idea to get to know the type of data you'll be working with"
   ]
  },
  {
   "cell_type": "code",
   "execution_count": 4,
   "metadata": {},
   "outputs": [
    {
     "name": "stdout",
     "output_type": "stream",
     "text": [
      "<class 'pandas.core.frame.DataFrame'>\n",
      "     mean radius  mean texture  mean perimeter  mean area  mean smoothness  \\\n",
      "0          17.99         10.38          122.80     1001.0          0.11840   \n",
      "1          20.57         17.77          132.90     1326.0          0.08474   \n",
      "2          19.69         21.25          130.00     1203.0          0.10960   \n",
      "3          11.42         20.38           77.58      386.1          0.14250   \n",
      "4          20.29         14.34          135.10     1297.0          0.10030   \n",
      "..           ...           ...             ...        ...              ...   \n",
      "564        21.56         22.39          142.00     1479.0          0.11100   \n",
      "565        20.13         28.25          131.20     1261.0          0.09780   \n",
      "566        16.60         28.08          108.30      858.1          0.08455   \n",
      "567        20.60         29.33          140.10     1265.0          0.11780   \n",
      "568         7.76         24.54           47.92      181.0          0.05263   \n",
      "\n",
      "     mean compactness  mean concavity  mean concave points  mean symmetry  \\\n",
      "0             0.27760         0.30010              0.14710         0.2419   \n",
      "1             0.07864         0.08690              0.07017         0.1812   \n",
      "2             0.15990         0.19740              0.12790         0.2069   \n",
      "3             0.28390         0.24140              0.10520         0.2597   \n",
      "4             0.13280         0.19800              0.10430         0.1809   \n",
      "..                ...             ...                  ...            ...   \n",
      "564           0.11590         0.24390              0.13890         0.1726   \n",
      "565           0.10340         0.14400              0.09791         0.1752   \n",
      "566           0.10230         0.09251              0.05302         0.1590   \n",
      "567           0.27700         0.35140              0.15200         0.2397   \n",
      "568           0.04362         0.00000              0.00000         0.1587   \n",
      "\n",
      "     mean fractal dimension  ...  worst radius  worst texture  \\\n",
      "0                   0.07871  ...        25.380          17.33   \n",
      "1                   0.05667  ...        24.990          23.41   \n",
      "2                   0.05999  ...        23.570          25.53   \n",
      "3                   0.09744  ...        14.910          26.50   \n",
      "4                   0.05883  ...        22.540          16.67   \n",
      "..                      ...  ...           ...            ...   \n",
      "564                 0.05623  ...        25.450          26.40   \n",
      "565                 0.05533  ...        23.690          38.25   \n",
      "566                 0.05648  ...        18.980          34.12   \n",
      "567                 0.07016  ...        25.740          39.42   \n",
      "568                 0.05884  ...         9.456          30.37   \n",
      "\n",
      "     worst perimeter  worst area  worst smoothness  worst compactness  \\\n",
      "0             184.60      2019.0           0.16220            0.66560   \n",
      "1             158.80      1956.0           0.12380            0.18660   \n",
      "2             152.50      1709.0           0.14440            0.42450   \n",
      "3              98.87       567.7           0.20980            0.86630   \n",
      "4             152.20      1575.0           0.13740            0.20500   \n",
      "..               ...         ...               ...                ...   \n",
      "564           166.10      2027.0           0.14100            0.21130   \n",
      "565           155.00      1731.0           0.11660            0.19220   \n",
      "566           126.70      1124.0           0.11390            0.30940   \n",
      "567           184.60      1821.0           0.16500            0.86810   \n",
      "568            59.16       268.6           0.08996            0.06444   \n",
      "\n",
      "     worst concavity  worst concave points  worst symmetry  \\\n",
      "0             0.7119                0.2654          0.4601   \n",
      "1             0.2416                0.1860          0.2750   \n",
      "2             0.4504                0.2430          0.3613   \n",
      "3             0.6869                0.2575          0.6638   \n",
      "4             0.4000                0.1625          0.2364   \n",
      "..               ...                   ...             ...   \n",
      "564           0.4107                0.2216          0.2060   \n",
      "565           0.3215                0.1628          0.2572   \n",
      "566           0.3403                0.1418          0.2218   \n",
      "567           0.9387                0.2650          0.4087   \n",
      "568           0.0000                0.0000          0.2871   \n",
      "\n",
      "     worst fractal dimension  \n",
      "0                    0.11890  \n",
      "1                    0.08902  \n",
      "2                    0.08758  \n",
      "3                    0.17300  \n",
      "4                    0.07678  \n",
      "..                       ...  \n",
      "564                  0.07115  \n",
      "565                  0.06637  \n",
      "566                  0.07820  \n",
      "567                  0.12400  \n",
      "568                  0.07039  \n",
      "\n",
      "[569 rows x 30 columns]\n"
     ]
    }
   ],
   "source": [
    "df=pd.DataFrame(X)\n",
    "df.columns=feature_names\n",
    "print(type(df))\n",
    "print(df)\n",
    "#print(df.dtypes)\n",
    "'''ch=97\n",
    "L=[]\n",
    "for i in range(30):\n",
    "    L.append(chr(ch+i))\n",
    "col=np.array(L)\n",
    "df.columns=col'''\n",
    "df['Target']=y"
   ]
  },
  {
   "cell_type": "markdown",
   "metadata": {},
   "source": [
    "### Visualization using pandas <br>\n",
    "As an example, here I have dispalyed the number of benign and malignant tumors as a bargraph <br>\n",
    "Feel free to try out various plots to find other insights from the data"
   ]
  },
  {
   "cell_type": "code",
   "execution_count": 5,
   "metadata": {},
   "outputs": [
    {
     "data": {
      "text/plain": [
       "<AxesSubplot:>"
      ]
     },
     "execution_count": 5,
     "metadata": {},
     "output_type": "execute_result"
    },
    {
     "data": {
      "image/png": "[encoded data removed]",
      "text/plain": [
       "<Figure size 432x288 with 1 Axes>"
      ]
     },
     "metadata": {
      "needs_background": "light"
     },
     "output_type": "display_data"
    }
   ],
   "source": [
    "df['Target'].value_counts().rename(index = {0:\"Benign\", 1:\"Malignant\"}).plot.barh(fontsize = 18)"
   ]
  },
  {
   "cell_type": "markdown",
   "metadata": {},
   "source": [
    "Perform minmax scaling (from scratch) to scale features in X<br>\n",
    "Note that we'll be working with the numpy arrays from here, not the pandas dataframe\n"
   ]
  },
  {
   "cell_type": "code",
   "execution_count": 6,
   "metadata": {},
   "outputs": [
    {
     "name": "stdout",
     "output_type": "stream",
     "text": [
      "(569, 30)\n"
     ]
    }
   ],
   "source": [
    "Sc=[]\n",
    "for i in range(len(X)):\n",
    "    Sc.append([])\n",
    "Xt=np.transpose(X)\n",
    "for C in range(30):\n",
    "    k=0\n",
    "    M,m=max(Xt[C]),min(Xt[C])\n",
    "    for i in Xt[C]:\n",
    "        x=(i-m)/(M-m)\n",
    "        Sc[k].append(x)\n",
    "        k+=1\n",
    "X_scaled=np.array(Sc)\n",
    "print(np.shape(X_scaled))"
   ]
  },
  {
   "cell_type": "markdown",
   "metadata": {},
   "source": [
    "Splitting data into test and train"
   ]
  },
  {
   "cell_type": "code",
   "execution_count": 7,
   "metadata": {
    "scrolled": false
   },
   "outputs": [
    {
     "name": "stdout",
     "output_type": "stream",
     "text": [
      "Training examples:  381  Testing examples:  188\n"
     ]
    }
   ],
   "source": [
    "X_train, X_test, y_train, y_test = train_test_split(X_scaled, y, test_size=0.33, random_state=42)\n",
    "# as the below statement will show when run, the above statement just splits the data so that 1/3 of it is in the test set and the rest is training\n",
    "print(\"Training examples: \", X_train.shape[0],\" Testing examples: \", X_test.shape[0])"
   ]
  },
  {
   "cell_type": "markdown",
   "metadata": {},
   "source": [
    "From here on out, keep in mind that the inputs will be a np array! <br>\n",
    "So here, the function will return a np array of the same size with sigmoid function applied to each element"
   ]
  },
  {
   "cell_type": "code",
   "execution_count": 8,
   "metadata": {},
   "outputs": [],
   "source": [
    "\n",
    "def sigmoid(z):\n",
    "    arr=1/(1+np.exp(-z))\n",
    "    return arr"
   ]
  },
  {
   "cell_type": "markdown",
   "metadata": {},
   "source": [
    "look up the hypothesis function for logistic regression <br>\n",
    "Basically the predicted value, given input and weights"
   ]
  },
  {
   "cell_type": "code",
   "execution_count": 9,
   "metadata": {},
   "outputs": [],
   "source": [
    "def hypo(X, weights):\n",
    "    return (sigmoid(np.dot(X,weights)))"
   ]
  },
  {
   "cell_type": "code",
   "execution_count": 10,
   "metadata": {},
   "outputs": [],
   "source": [
    "def cost(y, y_pred):\n",
    "    loss = -(y*np.log(y_pred)+(1-y)*np.log(1-y_pred))\n",
    "    cost = sum(loss)/len(loss)\n",
    "    return cost"
   ]
  },
  {
   "cell_type": "markdown",
   "metadata": {},
   "source": [
    "Perform one step of gradient descent and return the updated weights"
   ]
  },
  {
   "cell_type": "code",
   "execution_count": 11,
   "metadata": {},
   "outputs": [],
   "source": [
    "def gradient_descent_step(weights, X, y, y_pred, alpha):\n",
    "    dw=np.dot(np.transpose(X),(y_pred-y))/len(X)\n",
    "    weights-=alpha*dw\n",
    "    return weights\n"
   ]
  },
  {
   "cell_type": "code",
   "execution_count": 12,
   "metadata": {},
   "outputs": [],
   "source": [
    "def train(X, y, iterations = 50, alpha=0.1):\n",
    "    # have a list of costs to use to plot cost function\n",
    "    costs = []\n",
    "    #initialize weights to a column np array of size = number of features\n",
    "    weights=np.zeros(np.shape(X)[1])\n",
    "    for i in range(iterations):\n",
    "        # calculate y_pred using hypo()\n",
    "        y_pred=hypo(X,weights)\n",
    "        # calculate costi (cost at ith iteration)\n",
    "        costi = cost(y,y_pred)\n",
    "        costs.append(costi)\n",
    "        # update weights using gradient descent\n",
    "        weights = gradient_descent_step(weights,X,y,y_pred,alpha)\n",
    "        \n",
    "        \n",
    "        if (4*(i+1))%iterations==0:\n",
    "            print(\"cost after %i %% iterations: %f\"%((i+1)*100/iterations,costi) )\n",
    "            \n",
    "    return weights, costs"
   ]
  },
  {
   "cell_type": "code",
   "execution_count": 13,
   "metadata": {},
   "outputs": [
    {
     "name": "stdout",
     "output_type": "stream",
     "text": [
      "cost after 25 % iterations: 0.138621\n",
      "cost after 50 % iterations: 0.113569\n",
      "cost after 75 % iterations: 0.101213\n",
      "cost after 100 % iterations: 0.093461\n"
     ]
    },
    {
     "data": {
      "image/png": "[encoded data removed]",
      "text/plain": [
       "<Figure size 432x288 with 1 Axes>"
      ]
     },
     "metadata": {
      "needs_background": "light"
     },
     "output_type": "display_data"
    }
   ],
   "source": [
    "wf, c = train(X_train, y_train, iterations = 1000, alpha=10) # you can tweak the parameters here\n",
    "plt.plot(range(len(c)), c)\n",
    "plt.xlabel(\"Iterations\")\n",
    "plt.ylabel(\"Cost\")\n",
    "plt.title(\"Cost vs. Iterations\")\n",
    "plt.show()"
   ]
  },
  {
   "cell_type": "code",
   "execution_count": 14,
   "metadata": {},
   "outputs": [],
   "source": [
    "def predict(X, weights):\n",
    "    predictions=[]\n",
    "    for i in hypo(X,weights):\n",
    "        if i>0.5:\n",
    "            predictions.append(1)\n",
    "        else:\n",
    "            predictions.append(0)\n",
    "    return (np.array(predictions))\n",
    "    #return column vector of predictions: 1 for malignant, 0 for benign  "
   ]
  },
  {
   "cell_type": "markdown",
   "metadata": {},
   "source": [
    "Find accuracy and additionally, write another function to find the f1 score (another evaluation metric) and calculate that on the train and test data"
   ]
  },
  {
   "cell_type": "code",
   "execution_count": 15,
   "metadata": {},
   "outputs": [],
   "source": [
    "def accuracy(y, y_pred):\n",
    "    diff=(y-y_pred)**2\n",
    "    c=0\n",
    "    for i in diff:\n",
    "        if i==0:\n",
    "            c+=1\n",
    "    return (c/len(diff))\n"
   ]
  },
  {
   "cell_type": "code",
   "execution_count": 16,
   "metadata": {},
   "outputs": [],
   "source": [
    "def f1_score(y,y_pred):\n",
    "    c=t=0\n",
    "    for i in range(len(y)):\n",
    "        if y[i]==1:\n",
    "            if y_pred[i]==1:\n",
    "                c+=1\n",
    "            t+=1\n",
    "    prec=c/t\n",
    "    recall=c/len(y)\n",
    "    return 2*(recall*prec)/(recall+prec)\n",
    "            "
   ]
  },
  {
   "cell_type": "code",
   "execution_count": 17,
   "metadata": {},
   "outputs": [],
   "source": [
    "pred_train = predict(X_train, wf)\n",
    "pred_test = predict(X_test, wf)\n"
   ]
  },
  {
   "cell_type": "markdown",
   "metadata": {},
   "source": [
    "Try tweaking the parameters alpha and iterations till you get an accuracy of at least 95% for both test and train data <br>\n",
    "After that see how high you can push it"
   ]
  },
  {
   "cell_type": "code",
   "execution_count": 18,
   "metadata": {},
   "outputs": [
    {
     "name": "stdout",
     "output_type": "stream",
     "text": [
      "Accuracy for train data:  0.968503937007874\n",
      "Accuracy for test data:  0.9414893617021277\n"
     ]
    }
   ],
   "source": [
    "print(\"Accuracy for train data: \", accuracy(y_train, pred_train))\n",
    "print(\"Accuracy for test data: \", accuracy(y_test, pred_test))"
   ]
  },
  {
   "cell_type": "code",
   "execution_count": 19,
   "metadata": {},
   "outputs": [
    {
     "name": "stdout",
     "output_type": "stream",
     "text": [
      "F1 score of train data: 0.752025931928687\n",
      "F1 score of test data: 0.7572815533980582\n"
     ]
    }
   ],
   "source": [
    "print(\"F1 score of train data:\",f1_score(y_train,pred_train))\n",
    "print(\"F1 score of test data:\",f1_score(y_test,pred_test))"
   ]
  },
  {
   "cell_type": "code",
   "execution_count": null,
   "metadata": {},
   "outputs": [],
   "source": []
  }
 ],
 "metadata": {
  "kernelspec": {
   "display_name": "Python 3",
   "language": "python",
   "name": "python3"
  },
  "language_info": {
   "codemirror_mode": {
    "name": "ipython",
    "version": 3
   },
   "file_extension": ".py",
   "mimetype": "text/x-python",
   "name": "python",
   "nbconvert_exporter": "python",
   "pygments_lexer": "ipython3",
   "version": "3.9.0"
  }
 },
 "nbformat": 4,
 "nbformat_minor": 4
}
