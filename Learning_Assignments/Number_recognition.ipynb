{
 "cells": [
  {
   "cell_type": "markdown",
   "metadata": {},
   "source": [
    "### Building a Neural Network from scratch \n",
    "We'll be using the MNIST dataset for this assignment. You will complete the implementation of the neural network here which will be able to recognize handwritten numbers with a pretty good accuracy.\n"
   ]
  },
  {
   "cell_type": "code",
   "execution_count": 1,
   "metadata": {},
   "outputs": [],
   "source": [
    "# do not change the code in this cell\n",
    "import numpy as np\n",
    "import pandas as pd\n",
    "import matplotlib.pyplot as plt\n",
    "%matplotlib inline\n",
    "from keras.datasets import mnist"
   ]
  },
  {
   "cell_type": "markdown",
   "metadata": {},
   "source": [
    "#### Get the data\n",
    "Fetch the data from mnist<br>\n",
    "Note the shape of the arrays<br>\n",
    "Convert the arrays to 2-dimensional with unrolled features"
   ]
  },
  {
   "cell_type": "code",
   "execution_count": 17,
   "metadata": {},
   "outputs": [
    {
     "data": {
      "text/plain": [
       "'\\ntrain_data = pd.read_csv(\"mnist_datasets\\\\mnist_train.csv\").to_numpy()\\nX_train = train_data[:, 1:]\\ny_train = train_data[:, 0].reshape((-1, 1))\\n\\ntest_data = pd.read_csv(\"mnist_datasets\\\\mnist_test.csv\").to_numpy()\\nX_test = test_data[:, 1:]\\ny_test = test_data[:, 0].reshape((-1, 1))\\n'"
      ]
     },
     "execution_count": 17,
     "metadata": {},
     "output_type": "execute_result"
    }
   ],
   "source": [
    "(X_train, y_train), (X_test, y_test) = mnist.load_data()\n",
    "# do necessary reshaping\n"
   ]
  },
  {
   "cell_type": "markdown",
   "metadata": {},
   "source": [
    "Run the code below to verify if you've done it right <br>\n",
    "Note : if your array is a rank 1 array of shape \n",
    "(n, ) use reshape to make it 2 dimensional which will make it easier to work with since that explicitly makes it a row or column vector"
   ]
  },
  {
   "cell_type": "code",
   "execution_count": 18,
   "metadata": {},
   "outputs": [
    {
     "name": "stdout",
     "output_type": "stream",
     "text": [
      "Your output:\n",
      "(60000, 784)\n",
      "(60000, 1)\n",
      "(10000, 784)\n",
      "(10000, 1)\n",
      "\n",
      "Expected output:\n",
      "(60000, 784)\n",
      "(60000, 1)\n",
      "(10000, 784)\n",
      "(10000, 1)\n"
     ]
    }
   ],
   "source": [
    "# do not change \n",
    "print(\"Your output:\")\n",
    "print(X_train.shape)\n",
    "print(y_train.shape)\n",
    "print(X_test.shape)\n",
    "print(y_test.shape)\n",
    "print(\"\\nExpected output:\\n(60000, 784)\\n(60000, 1)\\n(10000, 784)\\n(10000, 1)\")"
   ]
  },
  {
   "cell_type": "markdown",
   "metadata": {},
   "source": [
    "#### Visualize what the training examples are\n",
    "you can run the following cell and change the value in range see the different training examples which are 28 * 28 pixel images"
   ]
  },
  {
   "cell_type": "code",
   "execution_count": 19,
   "metadata": {},
   "outputs": [
    {
     "data": {
      "image/png": "[encoded data removed]",
      "text/plain": [
       "<Figure size 432x288 with 1 Axes>"
      ]
     },
     "metadata": {
      "needs_background": "light"
     },
     "output_type": "display_data"
    },
    {
     "data": {
      "image/png": "[encoded data removed]",
      "text/plain": [
       "<Figure size 432x288 with 1 Axes>"
      ]
     },
     "metadata": {
      "needs_background": "light"
     },
     "output_type": "display_data"
    },
    {
     "data": {
      "image/png": "[encoded data removed]",
      "text/plain": [
       "<Figure size 432x288 with 1 Axes>"
      ]
     },
     "metadata": {
      "needs_background": "light"
     },
     "output_type": "display_data"
    },
    {
     "data": {
      "image/png": "[encoded data removed]",
      "text/plain": [
       "<Figure size 432x288 with 1 Axes>"
      ]
     },
     "metadata": {
      "needs_background": "light"
     },
     "output_type": "display_data"
    },
    {
     "data": {
      "image/png": "[encoded data removed]",
      "text/plain": [
       "<Figure size 432x288 with 1 Axes>"
      ]
     },
     "metadata": {
      "needs_background": "light"
     },
     "output_type": "display_data"
    }
   ],
   "source": [
    "for i in range(5):  \n",
    "    plt.subplot(330 + 1 + i)\n",
    "    plt.imshow(X_train[i, :].reshape(28, 28), cmap=('Greys'))\n",
    "    plt.show()"
   ]
  },
  {
   "cell_type": "markdown",
   "metadata": {},
   "source": [
    "We shall define a neural network class which will contain the parameters and functions for training and predicting <br>\n",
    "the network architecture we will consider is simple with one hidden layer <br>\n",
    "Linear -> sigmoid -> linear -> sigmoid = output"
   ]
  },
  {
   "cell_type": "code",
   "execution_count": 20,
   "metadata": {},
   "outputs": [],
   "source": [
    "# neural network class definition\n",
    "class neuralnetwork:\n",
    "    \n",
    "    \n",
    "    # initialise the neural network\n",
    "    def __init__(self, inputnodes, hiddennodes, outputnodes, learningrate):\n",
    "        # set number of nodes in each input, hidden, output layer\n",
    "        self.inodes = inputnodes\n",
    "        self.hnodes = hiddennodes\n",
    "        self.onodes = outputnodes\n",
    "        \n",
    "        # initialie weight (random initialization) and bias matrices\n",
    "        # wi => weight matrix between layers i-1 and i\n",
    "        self.w1 = ?\n",
    "        self.b1 = ?\n",
    "        self.w2 = ?\n",
    "        self.b2 = ?\n",
    "        \n",
    "        # learning rate\n",
    "        self.lr = learningrate\n",
    "        \n",
    "        # activation function is the sigmoid function\n",
    "        # define this as a lambda function\n",
    "        self.sigmoid = lambda x: ?\n",
    "        \n",
    "        pass\n",
    "\n",
    "    \n",
    "    # train the neural network - performs one step of gradient descent\n",
    "    def train(self, X, y):\n",
    "        \"\"\"\n",
    "        inputs:\n",
    "            X - array of shape (number of features (=input nodes), number of examples considered)\n",
    "            y - target array of shape (number of classes(=output nodes), number of examples considered)\n",
    "        \"\"\"\n",
    "        # calculate signals into hidden layer\n",
    "        Z1 = \n",
    "        # calculate the signals emerging from hidden layer (activations)\n",
    "        A1 = \n",
    "        \n",
    "        # calculate signals into final output layer\n",
    "        Z2 = \n",
    "        # calculate the signals emerging from final output layer (activations)\n",
    "        A2 = \n",
    "        \n",
    "        # BACK PROPAGATION\n",
    "        \n",
    "        # output layer error is the (actual - target)\n",
    "        dZ2 =      \n",
    "        dw2 = \n",
    "        dZ1 = \n",
    "        dw1 = \n",
    "        \n",
    "        # UPDATE PARAMETERS\n",
    "        \n",
    "        # update the weights for the links between the hidden and output layers\n",
    "        self.w2 -= ?\n",
    "        self.b2 -= ?\n",
    "        # update the weights for the links between the input and hidden layers\n",
    "        self.w1 -= ?\n",
    "        self.b1 -= ?\n",
    "        pass\n",
    "\n",
    "    \n",
    "    # query the neural network\n",
    "    def predict(self, X):\n",
    "        \"\"\"\n",
    "        input:\n",
    "            X - array of shape (number of features (=input nodes), number of examples considered)\n",
    "        output: \n",
    "            A2 - shape(number of classes, nuber of examples considered)\n",
    "        \n",
    "        the function simply does the forward propogate step on the input considered\n",
    "        \"\"\"\n",
    "        ?\n",
    "        \n",
    "        return (A2)"
   ]
  },
  {
   "cell_type": "code",
   "execution_count": 21,
   "metadata": {},
   "outputs": [],
   "source": [
    "input_nodes = 784 # 24 * 24 px images\n",
    "hidden_nodes = 128 # you can change this value and see what happens\n",
    "output_nodes = 10 # number of output nodes = number of classes = 10 ( 10 digits)\n",
    "\n",
    "learning_rate = 0.1"
   ]
  },
  {
   "cell_type": "code",
   "execution_count": 22,
   "metadata": {},
   "outputs": [],
   "source": [
    "# do not change\n",
    "# instantiating the neural network\n",
    "NN = neuralnetwork(input_nodes,hidden_nodes,output_nodes,learning_rate)"
   ]
  },
  {
   "cell_type": "markdown",
   "metadata": {},
   "source": [
    "the labels you have need to be transformed into one hot encodings <br>\n",
    "Create the array target of shape (output nodes, training examples) such that: <br>\n",
    "- each column of targets represent the one hot encoding for a training example\n",
    "- i.e: if y_train[i, 0] = 3 then targets[:, i] = [0, 0, 0, 1, 0, 0, 0, 0, 0, 0].T\n",
    "<br><br>\n",
    "##### NOTE : \n",
    "in X_train and X_test, the features are along the rows<br>\n",
    "The neural network expects the features in columns so ensure you make that change when pasing as a parameter"
   ]
  },
  {
   "cell_type": "code",
   "execution_count": 23,
   "metadata": {},
   "outputs": [],
   "source": [
    "targets = ?"
   ]
  },
  {
   "cell_type": "markdown",
   "metadata": {},
   "source": [
    "#### Stochastic gradient descent\n",
    "you will perform a step of gradient descent for each training example\n",
    "<br> <br>\n",
    "Note that stochastic gradient descent is quite slow and does not converge so once you've finished, I recommend you also try to implement mini batch gradient descent"
   ]
  },
  {
   "cell_type": "code",
   "execution_count": 24,
   "metadata": {},
   "outputs": [],
   "source": [
    "for i in range(X_train.shape[0]):\n",
    "    ?"
   ]
  },
  {
   "cell_type": "markdown",
   "metadata": {},
   "source": [
    "define an accuracy function similar to that from the previous assignment"
   ]
  },
  {
   "cell_type": "code",
   "execution_count": 25,
   "metadata": {},
   "outputs": [],
   "source": [
    "def accuracy(y, y_pred):\n",
    "    ?\n"
   ]
  },
  {
   "cell_type": "code",
   "execution_count": 26,
   "metadata": {},
   "outputs": [
    {
     "name": "stdout",
     "output_type": "stream",
     "text": [
      "accuracy on train data =  95.965\n",
      "accuracy on test data =  95.53\n"
     ]
    }
   ],
   "source": [
    "?\n",
    "print(\"accuracy on train data = \", accuracy(?))\n",
    "\n",
    "?\n",
    "print(\"accuracy on test data = \", accuracy(?))\n"
   ]
  },
  {
   "cell_type": "code",
   "execution_count": 29,
   "metadata": {},
   "outputs": [],
   "source": [
    "# helper to load data from PNG image files\n",
    "import imageio\n",
    "# glob helps select multiple files using patterns\n",
    "import glob"
   ]
  },
  {
   "cell_type": "code",
   "execution_count": 30,
   "metadata": {},
   "outputs": [
    {
     "name": "stdout",
     "output_type": "stream",
     "text": [
      "loading ...  my_own_images\\2828_my_own_3.png\n",
      "loading ...  my_own_images\\2828_my_own_4.png\n",
      "loading ...  my_own_images\\2828_my_own_5.png\n",
      "loading ...  my_own_images\\2828_my_own_7.png\n",
      "loading ...  my_own_images\\2828_my_own_9.png\n"
     ]
    }
   ],
   "source": [
    "#do not change\n",
    "# our own image test data set\n",
    "our_own_dataset = []\n",
    "\n",
    "# load the png image data as test data set\n",
    "for image_file_name in glob.glob('my_own_images/2828_my_own_?.png'):\n",
    "    \n",
    "    # use the filename to set the correct label\n",
    "    label = int(image_file_name[-5:-4])\n",
    "    \n",
    "    # load image data from png files into an array\n",
    "    print (\"loading ... \", image_file_name)\n",
    "    img_array = imageio.imread(image_file_name, as_gray=True)\n",
    "    \n",
    "    # reshape from 28x28 to list of 784 values, invert values\n",
    "    img_data  = 255.0 - img_array.reshape(784)\n",
    "    \n",
    "    # then scale data to range from 0.01 to 1.0\n",
    "    img_data = (img_data / 255.0 ) \n",
    "    \n",
    "    # append label and image data  to test data set\n",
    "    record = np.append(label,img_data)\n",
    "    our_own_dataset.append(record)\n",
    "    \n",
    "    pass"
   ]
  },
  {
   "cell_type": "code",
   "execution_count": 163,
   "metadata": {},
   "outputs": [
    {
     "name": "stdout",
     "output_type": "stream",
     "text": [
      "correct label :  5.0\n",
      "network says  5\n",
      "match!\n"
     ]
    },
    {
     "data": {
      "image/png": "[encoded data removed]",
      "text/plain": [
       "<Figure size 432x288 with 1 Axes>"
      ]
     },
     "metadata": {
      "needs_background": "light"
     },
     "output_type": "display_data"
    }
   ],
   "source": [
    "# test the neural network with our own images\n",
    "\n",
    "# record to test, you can change this value\n",
    "item = 2\n",
    "\n",
    "# plot image\n",
    "plt.imshow(our_own_dataset[item][1:].reshape(28,28), cmap='Greys', interpolation='None')\n",
    "\n",
    "# correct answer is first value\n",
    "correct_label = our_own_dataset[item][0]\n",
    "print(\"correct label : \", correct_label)\n",
    "# data is remaining values\n",
    "inputs = our_own_dataset[item][1:].reshape(-1, 1)\n",
    "\n",
    "# query the network\n",
    "predictions = NN.predict(inputs)\n",
    "label = np.argmax(predictions)\n",
    "\n",
    "print(\"network says \", label)\n",
    "# append correct or incorrect to list\n",
    "if (label == correct_label):\n",
    "    print (\"match!\")\n",
    "else:\n",
    "    print (\"no match!\")\n",
    "    pass"
   ]
  },
  {
   "cell_type": "code",
   "execution_count": null,
   "metadata": {},
   "outputs": [],
   "source": []
  }
 ],
 "metadata": {
  "kernelspec": {
   "display_name": "Python 3",
   "language": "python",
   "name": "python3"
  },
  "language_info": {
   "codemirror_mode": {
    "name": "ipython",
    "version": 3
   },
   "file_extension": ".py",
   "mimetype": "text/x-python",
   "name": "python",
   "nbconvert_exporter": "python",
   "pygments_lexer": "ipython3",
   "version": "3.8.5"
  }
 },
 "nbformat": 4,
 "nbformat_minor": 2
}
