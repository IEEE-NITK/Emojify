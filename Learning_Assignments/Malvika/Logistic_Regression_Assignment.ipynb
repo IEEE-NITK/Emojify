{
 "cells": [
  {
   "cell_type": "markdown",
   "metadata": {},
   "source": [
    "## Logistic Regression Assignment\n",
    "In this assignment you will be working with the \"Breast Cancer Wisconsin Dataset\" from sklearn package and use logistic regression to predict whether a lump found is malignant or benign.\n",
    "#### Let's get started!"
   ]
  },
  {
   "cell_type": "code",
   "execution_count": 113,
   "metadata": {},
   "outputs": [],
   "source": [
    "# you will not need other libraries than these so leave this cell as is \n",
    "import pandas as pd\n",
    "import numpy as np\n",
    "import matplotlib.pyplot as plt\n",
    "from sklearn.datasets import load_breast_cancer\n",
    "from sklearn.preprocessing import MinMaxScaler\n",
    "from sklearn.model_selection import train_test_split"
   ]
  },
  {
   "cell_type": "markdown",
   "metadata": {},
   "source": [
    "Loading the dataset (as numpy arrays) into X and y:"
   ]
  },
  {
   "cell_type": "code",
   "execution_count": 114,
   "metadata": {},
   "outputs": [
    {
     "name": "stdout",
     "output_type": "stream",
     "text": [
      "<class 'numpy.ndarray'>\n",
      "(569, 30)\n"
     ]
    }
   ],
   "source": [
    "X = load_breast_cancer()['data']\n",
    "y = load_breast_cancer()['target']\n",
    "feature_names = load_breast_cancer()['feature_names']\n",
    "\n",
    "# by running this we see that X is a numpy array(so is y)\n",
    "print(type(X))\n",
    "# this shows you number of rows and columns(features) in our data\n",
    "print(X.shape)"
   ]
  },
  {
   "cell_type": "markdown",
   "metadata": {},
   "source": [
    "Next, convert the numpy arrays we have extracted into a single pandas dataframe (name the y column as 'Target') and use head() to look at what the dataset contains. <br>\n",
    "You're free to check other info too, maybe the datatypes in each column or whether there are any null values, <br>\n",
    "It's always a good idea to get to know the type of data you'll be working with"
   ]
  },
  {
   "cell_type": "code",
   "execution_count": 194,
   "metadata": {},
   "outputs": [
    {
     "name": "stdout",
     "output_type": "stream",
     "text": [
      "     Target\n",
      "0         0\n",
      "1         0\n",
      "2         0\n",
      "3         0\n",
      "4         0\n",
      "..      ...\n",
      "564       0\n",
      "565       0\n",
      "566       0\n",
      "567       0\n",
      "568       1\n",
      "\n",
      "[569 rows x 1 columns]\n"
     ]
    }
   ],
   "source": [
    "df = pd.DataFrame(y, columns=['Target'])\n",
    "print(df)\n",
    "#df=pd.DataFrame(X)\n",
    "#df['Target']=y\n",
    "#df"
   ]
  },
  {
   "cell_type": "markdown",
   "metadata": {},
   "source": [
    "### Visualization using pandas <br>\n",
    "As an example, here I have dispalyed the number of benign and malignant tumors as a bargraph <br>\n",
    "Feel free to try out various plots to find other insights from the data"
   ]
  },
  {
   "cell_type": "code",
   "execution_count": 195,
   "metadata": {},
   "outputs": [
    {
     "data": {
      "text/plain": [
       "<matplotlib.axes._subplots.AxesSubplot at 0x29a4577dfc8>"
      ]
     },
     "execution_count": 195,
     "metadata": {},
     "output_type": "execute_result"
    },
    {
     "data": {
      "image/png": "[encoded data removed]",
      "text/plain": [
       "<Figure size 432x288 with 1 Axes>"
      ]
     },
     "metadata": {
      "needs_background": "light"
     },
     "output_type": "display_data"
    }
   ],
   "source": [
    "df['Target'].value_counts().rename(index = {0:\"Benign\", 1:\"Malignant\"}).plot.barh(fontsize = 18)"
   ]
  },
  {
   "cell_type": "markdown",
   "metadata": {},
   "source": [
    "Perform minmax scaling (from scratch) to scale features in X<br>\n",
    "Note that we'll be working with the numpy arrays from here, not the pandas dataframe\n"
   ]
  },
  {
   "cell_type": "code",
   "execution_count": 196,
   "metadata": {},
   "outputs": [],
   "source": [
    "X_scaled=MinMaxScaler().fit_transform(X)"
   ]
  },
  {
   "cell_type": "markdown",
   "metadata": {},
   "source": [
    "Splitting data into test and train"
   ]
  },
  {
   "cell_type": "code",
   "execution_count": 197,
   "metadata": {
    "scrolled": false
   },
   "outputs": [
    {
     "name": "stdout",
     "output_type": "stream",
     "text": [
      "Training examples:  381  Testing examples:  188\n"
     ]
    }
   ],
   "source": [
    "X_train, X_test, y_train, y_test = train_test_split(X_scaled, y, test_size=0.33, random_state=42)\n",
    "# as the below statement will show when run, the above statement just splits the data so that 1/3 of it is in the test set and the rest is training\n",
    "print(\"Training examples: \", X_train.shape[0],\" Testing examples: \", X_test.shape[0])"
   ]
  },
  {
   "cell_type": "markdown",
   "metadata": {},
   "source": [
    "From here on out, keep in mind that the inputs will be a np array! <br>\n",
    "So here, the function will return a np array of the same size with sigmoid function applied to each element"
   ]
  },
  {
   "cell_type": "code",
   "execution_count": 198,
   "metadata": {},
   "outputs": [],
   "source": [
    "def sigmoid(z):\n",
    "    z=1/(1 + np.exp(-z))\n",
    "    return z"
   ]
  },
  {
   "cell_type": "markdown",
   "metadata": {},
   "source": [
    "look up the hypothesis function for logistic regression <br>\n",
    "Basically the predicted value, given input and weights"
   ]
  },
  {
   "cell_type": "code",
   "execution_count": 199,
   "metadata": {},
   "outputs": [],
   "source": [
    "def hypo(X, weights):\n",
    "    y_pred = sigmoid(np.matmul(X,weights))\n",
    "    return y_pred"
   ]
  },
  {
   "cell_type": "code",
   "execution_count": 256,
   "metadata": {},
   "outputs": [],
   "source": [
    "def cost(y, y_pred):\n",
    "    #cost=np.sum((np.matmul(np.transpose(-y),np.log(y_pred)))-(np.matmul(np.transpose(1-y),np.log(1-y_pred))))/y.shape[0]\n",
    "    cost = (np.matmul(-y.T, np.log(y_pred)) - np.matmul((1 -y.T), np.log(1 - y_pred)))/y.shape[0]\n",
    "    return cost[0]"
   ]
  },
  {
   "cell_type": "markdown",
   "metadata": {},
   "source": [
    "Perform one step of gradient descent and return the updated weights"
   ]
  },
  {
   "cell_type": "code",
   "execution_count": 257,
   "metadata": {},
   "outputs": [],
   "source": [
    "def gradient_descent_step(weights, X, y, y_pred, alpha):\n",
    "    #diff = y_pred-y\n",
    "    #prod=sum(np.dot(np.transpose(diff),X))*alpha\n",
    "    #weights=np.subtract(weights,np.transpose(prod))\n",
    "    weights=weights-alpha*(np.matmul(np.transpose(X),(y_pred-y)))/(y.shape[0])\n",
    "    return weights\n"
   ]
  },
  {
   "cell_type": "code",
   "execution_count": 258,
   "metadata": {},
   "outputs": [],
   "source": [
    "def train(X, y, iterations = 50, alpha=0.1):\n",
    "    y=np.reshape(y,(y.shape[0],1))\n",
    "    # have a list of costs to use to plot cost function\n",
    "    costs = []\n",
    "    #initialize weights to a column np array of size = number of examples\n",
    "    row=X.shape[1]\n",
    "    weights=np.ones((row,1))  \n",
    "    \n",
    "    for i in range(iterations):\n",
    "        # calculate y_pred using hypo()\n",
    "        y_pred=hypo(X,weights)\n",
    "        # calculate costi (cost at ith iteration)\n",
    "        costi = cost(y,y_pred)\n",
    "        costs.append(costi)\n",
    "        # update weights using gradient descent\n",
    "        weights=gradient_descent_step(weights,X,y,y_pred,alpha)\n",
    "        \n",
    "        \n",
    "        \n",
    "        if (4*(i+1))%iterations==0:\n",
    "            print(\"cost after %i %% iterations: %f\"%((i+1)*100/iterations,costi) )\n",
    "            \n",
    "    return weights, costs"
   ]
  },
  {
   "cell_type": "code",
   "execution_count": 259,
   "metadata": {},
   "outputs": [
    {
     "name": "stdout",
     "output_type": "stream",
     "text": [
      "cost after 25 % iterations: 0.515714\n",
      "cost after 50 % iterations: 0.433076\n",
      "cost after 75 % iterations: 0.387772\n",
      "cost after 100 % iterations: 0.358154\n"
     ]
    },
    {
     "data": {
      "image/png": "[encoded data removed]",
      "text/plain": [
       "<Figure size 432x288 with 1 Axes>"
      ]
     },
     "metadata": {
      "needs_background": "light"
     },
     "output_type": "display_data"
    }
   ],
   "source": [
    "wf, c = train(X_train, y_train, iterations = 1000, alpha=0.1) # you can tweak the parameters here\n",
    "plt.plot(range(len(c)), c)\n",
    "plt.xlabel(\"Iterations\")\n",
    "plt.ylabel(\"Cost\")\n",
    "plt.title(\"Cost vs. Iterations\")\n",
    "plt.show()"
   ]
  },
  {
   "cell_type": "code",
   "execution_count": 260,
   "metadata": {},
   "outputs": [],
   "source": [
    "def predict(X, weights):\n",
    "    y_pred= hypo(X,weights)\n",
    "    y_pred=np.where(y_pred>0.5,y_pred/y_pred,y_pred*0)\n",
    "    return y_pred\n",
    "    #return column vector of predictions: 1 for malignant, 0 for benign  "
   ]
  },
  {
   "cell_type": "markdown",
   "metadata": {},
   "source": [
    "Find accuracy and additionally, write another function to find the f1 score (another evaluation metric) and calculate that on the train and test data"
   ]
  },
  {
   "cell_type": "code",
   "execution_count": 261,
   "metadata": {},
   "outputs": [],
   "source": [
    "def accuracy(y, y_pred):\n",
    "    y_pred=y_pred.ravel()\n",
    "    right=0\n",
    "    for i in y:\n",
    "        if y_pred[i]==y[i]:\n",
    "            right+=1\n",
    "    return right*100/y.shape[0]\n",
    "    "
   ]
  },
  {
   "cell_type": "code",
   "execution_count": 262,
   "metadata": {},
   "outputs": [],
   "source": [
    "pred_train = predict(X_train,wf)\n",
    "pred_test = predict(X_test, wf)\n"
   ]
  },
  {
   "cell_type": "markdown",
   "metadata": {},
   "source": [
    "Try tweaking the parameters alpha and iterations till you get an accuracy of at least 95% for both test and train data <br>\n",
    "After that see how high you can push it"
   ]
  },
  {
   "cell_type": "code",
   "execution_count": 263,
   "metadata": {},
   "outputs": [
    {
     "name": "stdout",
     "output_type": "stream",
     "text": [
      "Accuracy for train data:  100.0\n",
      "Accuracy for test data:  100.0\n"
     ]
    }
   ],
   "source": [
    "print(\"Accuracy for train data: \", accuracy(y_train, pred_train))\n",
    "print(\"Accuracy for test data: \", accuracy(y_test, pred_test))"
   ]
  },
  {
   "cell_type": "code",
   "execution_count": null,
   "metadata": {},
   "outputs": [],
   "source": []
  }
 ],
 "metadata": {
  "kernelspec": {
   "display_name": "Python 3",
   "language": "python",
   "name": "python3"
  },
  "language_info": {
   "codemirror_mode": {
    "name": "ipython",
    "version": 3
   },
   "file_extension": ".py",
   "mimetype": "text/x-python",
   "name": "python",
   "nbconvert_exporter": "python",
   "pygments_lexer": "ipython3",
   "version": "3.7.6"
  }
 },
 "nbformat": 4,
 "nbformat_minor": 4
}
